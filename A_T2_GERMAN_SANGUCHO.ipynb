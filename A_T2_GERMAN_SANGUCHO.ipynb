{
  "nbformat": 4,
  "nbformat_minor": 0,
  "metadata": {
    "colab": {
      "provenance": [],
      "authorship_tag": "ABX9TyO3qnmLtkWjryKvVD/IED8q",
      "include_colab_link": true
    },
    "kernelspec": {
      "name": "python3",
      "display_name": "Python 3"
    },
    "language_info": {
      "name": "python"
    }
  },
  "cells": [
    {
      "cell_type": "markdown",
      "metadata": {
        "id": "view-in-github",
        "colab_type": "text"
      },
      "source": [
        "<a href=\"https://colab.research.google.com/github/gsangucho/hola-mundo/blob/main/A_T2_GERMAN_SANGUCHO.ipynb\" target=\"_parent\"><img src=\"https://colab.research.google.com/assets/colab-badge.svg\" alt=\"Open In Colab\"/></a>"
      ]
    },
    {
      "cell_type": "markdown",
      "source": [
        "#**TRABAJO 2 TIC**\n",
        "#**Tecnolgías de las Informaciòn y comunicación**\n",
        "**Unidad 3: HERRAMIENTAS COLABORATIVAS**"
      ],
      "metadata": {
        "id": "MIM8A1xc2WsO"
      }
    },
    {
      "cell_type": "code",
      "execution_count": 4,
      "metadata": {
        "colab": {
          "base_uri": "https://localhost:8080/"
        },
        "id": "X9SBaQcWsb0D",
        "outputId": "97964cb5-227d-41d3-af30-94e190fd941f"
      },
      "outputs": [
        {
          "output_type": "stream",
          "name": "stdout",
          "text": [
            "Ingrese un numero: 4\n",
            "Ingrese un segundo numero: 6\n",
            "La suma es:  10\n"
          ]
        }
      ],
      "source": [
        "a = int(input(\"Ingrese un numero: \"))\n",
        "b = int(input(\"Ingrese un segundo numero: \"))\n",
        "print(\"La suma es: \",a+b)"
      ]
    },
    {
      "cell_type": "code",
      "source": [
        "numero = int(input(\"ingrese un número: \"))\n",
        "if numero%2 == 0:\n",
        "  print(\"El numero es par\")\n",
        "else:\n",
        "    print(\"El numero es impar\")"
      ],
      "metadata": {
        "colab": {
          "base_uri": "https://localhost:8080/"
        },
        "id": "PZtwSUqXtRfb",
        "outputId": "d326be6c-de96-4419-d154-1c70ff4b1d0d"
      },
      "execution_count": 7,
      "outputs": [
        {
          "output_type": "stream",
          "name": "stdout",
          "text": [
            "ingrese un número: 10\n",
            "El numero es par\n"
          ]
        }
      ]
    },
    {
      "cell_type": "code",
      "source": [
        "def suma(a,b):\n",
        "  return a+b\n",
        "def resta(a,b):\n",
        "  return a-b\n",
        "def multiplicacion(a,b):\n",
        "  return a*b\n",
        "def division(a,b):\n",
        "  return a/b\n",
        "\n",
        "def menu(op):\n",
        "  print(\"\\n Ingrese dos valores:\")\n",
        "  a = int(input(\"valor 1: \"))\n",
        "  b = int(input(\"valor 2: \"))\n",
        "  valor = 0\n",
        "  if op == 1:\n",
        "    valor = suma(a,b)\n",
        "  elif op == 2:\n",
        "    valor = resta(a,b)\n",
        "  elif op == 3:\n",
        "    valor = multiplicar(a,b)\n",
        "  elif op == 4:\n",
        "      valor = division(a,b)\n",
        "  else:\n",
        "    print(\"\\n Error en el ingreso de la opciòn\")\n",
        "  return valor\n",
        "\n",
        "print(\"Elija el numero de la operaciòn que desea realizar: \\n 1.- Suma \\n 2.- Resta\\n 3.- Multiplicacion\\n 4.- Division\")\n",
        "operacion = int(input(\"\\n Opcion: \"))\n",
        "resultado = menu(operacion)\n",
        "print(\"el resultado es: \", resultado)"
      ],
      "metadata": {
        "colab": {
          "base_uri": "https://localhost:8080/",
          "height": 349
        },
        "id": "Lygao4-ftwdu",
        "outputId": "9934d6e3-b114-4720-d13b-fc4985c1dfd6"
      },
      "execution_count": 18,
      "outputs": [
        {
          "name": "stdout",
          "output_type": "stream",
          "text": [
            "Elija el numero de la operaciòn que desea realizar: \n",
            " 1.- Suma \n",
            " 2.- Resta\n",
            " 3.- Multiplicacion\n",
            " 4.- Division\n",
            "\n",
            " Opcion: 5,6,8\n"
          ]
        },
        {
          "output_type": "error",
          "ename": "ValueError",
          "evalue": "invalid literal for int() with base 10: '5,6,8'",
          "traceback": [
            "\u001b[0;31m---------------------------------------------------------------------------\u001b[0m",
            "\u001b[0;31mValueError\u001b[0m                                Traceback (most recent call last)",
            "\u001b[0;32m<ipython-input-18-e3b1f00c722f>\u001b[0m in \u001b[0;36m<cell line: 28>\u001b[0;34m()\u001b[0m\n\u001b[1;32m     26\u001b[0m \u001b[0;34m\u001b[0m\u001b[0m\n\u001b[1;32m     27\u001b[0m \u001b[0mprint\u001b[0m\u001b[0;34m(\u001b[0m\u001b[0;34m\"Elija el numero de la operaciòn que desea realizar: \\n 1.- Suma \\n 2.- Resta\\n 3.- Multiplicacion\\n 4.- Division\"\u001b[0m\u001b[0;34m)\u001b[0m\u001b[0;34m\u001b[0m\u001b[0;34m\u001b[0m\u001b[0m\n\u001b[0;32m---> 28\u001b[0;31m \u001b[0moperacion\u001b[0m \u001b[0;34m=\u001b[0m \u001b[0mint\u001b[0m\u001b[0;34m(\u001b[0m\u001b[0minput\u001b[0m\u001b[0;34m(\u001b[0m\u001b[0;34m\"\\n Opcion: \"\u001b[0m\u001b[0;34m)\u001b[0m\u001b[0;34m)\u001b[0m\u001b[0;34m\u001b[0m\u001b[0;34m\u001b[0m\u001b[0m\n\u001b[0m\u001b[1;32m     29\u001b[0m \u001b[0mresultado\u001b[0m \u001b[0;34m=\u001b[0m \u001b[0mmenu\u001b[0m\u001b[0;34m(\u001b[0m\u001b[0moperacion\u001b[0m\u001b[0;34m)\u001b[0m\u001b[0;34m\u001b[0m\u001b[0;34m\u001b[0m\u001b[0m\n\u001b[1;32m     30\u001b[0m \u001b[0mprint\u001b[0m\u001b[0;34m(\u001b[0m\u001b[0;34m\"el resultado es: \"\u001b[0m\u001b[0;34m,\u001b[0m \u001b[0mresultado\u001b[0m\u001b[0;34m)\u001b[0m\u001b[0;34m\u001b[0m\u001b[0;34m\u001b[0m\u001b[0m\n",
            "\u001b[0;31mValueError\u001b[0m: invalid literal for int() with base 10: '5,6,8'"
          ]
        }
      ]
    },
    {
      "cell_type": "markdown",
      "source": [],
      "metadata": {
        "id": "5M-sC9z02QId"
      }
    },
    {
      "cell_type": "code",
      "source": [
        "cadena = input(\"\\n Ingrese 3 numeros separados por comas: \")\n",
        "lista = cadena.split(',')\n",
        "\n",
        "print(cadena)\n",
        "\n",
        "num_mayor = int(lista[0])\n",
        "for i in range(len(lista)):\n",
        "  if num_mayor >= int(lista[i]):\n",
        "    num_mayor = int(lista[i])\n",
        "  else:\n",
        "    pass\n",
        "\n",
        "print(\"El numero mayor es: \",num_mayor)"
      ],
      "metadata": {
        "colab": {
          "base_uri": "https://localhost:8080/",
          "height": 245
        },
        "id": "7QqsFK9Cwa2Y",
        "outputId": "0584af71-ee7a-4a08-e0d5-1f19b4adc4e4"
      },
      "execution_count": 17,
      "outputs": [
        {
          "name": "stdout",
          "output_type": "stream",
          "text": [
            "\n",
            " Ingrese 3 numeros separados por comas: 5,6,6\n"
          ]
        },
        {
          "output_type": "error",
          "ename": "NameError",
          "evalue": "name 'split' is not defined",
          "traceback": [
            "\u001b[0;31m---------------------------------------------------------------------------\u001b[0m",
            "\u001b[0;31mNameError\u001b[0m                                 Traceback (most recent call last)",
            "\u001b[0;32m<ipython-input-17-df5777a014a0>\u001b[0m in \u001b[0;36m<cell line: 2>\u001b[0;34m()\u001b[0m\n\u001b[1;32m      1\u001b[0m \u001b[0mcadena\u001b[0m \u001b[0;34m=\u001b[0m \u001b[0minput\u001b[0m\u001b[0;34m(\u001b[0m\u001b[0;34m\"\\n Ingrese 3 numeros separados por comas: \"\u001b[0m\u001b[0;34m)\u001b[0m\u001b[0;34m\u001b[0m\u001b[0;34m\u001b[0m\u001b[0m\n\u001b[0;32m----> 2\u001b[0;31m \u001b[0mlista\u001b[0m \u001b[0;34m=\u001b[0m \u001b[0msplit\u001b[0m\u001b[0;34m(\u001b[0m\u001b[0mcadena\u001b[0m\u001b[0;34m)\u001b[0m\u001b[0;34m\u001b[0m\u001b[0;34m\u001b[0m\u001b[0m\n\u001b[0m\u001b[1;32m      3\u001b[0m \u001b[0;34m\u001b[0m\u001b[0m\n\u001b[1;32m      4\u001b[0m \u001b[0mprint\u001b[0m\u001b[0;34m(\u001b[0m\u001b[0mcadena\u001b[0m\u001b[0;34m)\u001b[0m\u001b[0;34m\u001b[0m\u001b[0;34m\u001b[0m\u001b[0m\n\u001b[1;32m      5\u001b[0m \u001b[0;34m\u001b[0m\u001b[0m\n",
            "\u001b[0;31mNameError\u001b[0m: name 'split' is not defined"
          ]
        }
      ]
    },
    {
      "cell_type": "code",
      "source": [
        "print(\"Hola mundo\")"
      ],
      "metadata": {
        "colab": {
          "base_uri": "https://localhost:8080/"
        },
        "id": "qyPy4hicsjHb",
        "outputId": "5e6505ed-c2ba-4149-93a9-f2a68de5327c"
      },
      "execution_count": 2,
      "outputs": [
        {
          "output_type": "stream",
          "name": "stdout",
          "text": [
            "Hola mundo\n"
          ]
        }
      ]
    }
  ]
}
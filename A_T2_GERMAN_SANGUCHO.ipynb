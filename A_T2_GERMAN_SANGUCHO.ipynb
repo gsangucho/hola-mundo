{
  "nbformat": 4,
  "nbformat_minor": 0,
  "metadata": {
    "colab": {
      "provenance": [],
      "authorship_tag": "ABX9TyPj+gI5s57wcRs6bLvwSP56",
      "include_colab_link": true
    },
    "kernelspec": {
      "name": "python3",
      "display_name": "Python 3"
    },
    "language_info": {
      "name": "python"
    }
  },
  "cells": [
    {
      "cell_type": "markdown",
      "metadata": {
        "id": "view-in-github",
        "colab_type": "text"
      },
      "source": [
        "<a href=\"https://colab.research.google.com/github/gsangucho/hola-mundo/blob/main/A_T2_GERMAN_SANGUCHO.ipynb\" target=\"_parent\"><img src=\"https://colab.research.google.com/assets/colab-badge.svg\" alt=\"Open In Colab\"/></a>"
      ]
    },
    {
      "cell_type": "markdown",
      "source": [
        "#**TRABAJO 2 TIC**\n",
        "#**Tecnologías de las Información y comunicación**\n",
        "**Unidad 3: HERRAMIENTAS COLABORATIVAS**"
      ],
      "metadata": {
        "id": "MIM8A1xc2WsO"
      }
    },
    {
      "cell_type": "code",
      "source": [
        "print(\"\\n1.- Hola mundo\") #Imprimo mensaje \"hola mundo\" con función print() con un salto de línea '\\n'"
      ],
      "metadata": {
        "colab": {
          "base_uri": "https://localhost:8080/"
        },
        "id": "qyPy4hicsjHb",
        "outputId": "2c5bf613-9e4a-4952-b3b1-7656cd385c75"
      },
      "execution_count": 18,
      "outputs": [
        {
          "output_type": "stream",
          "name": "stdout",
          "text": [
            "\n",
            "1.- Hola mundo\n"
          ]
        }
      ]
    },
    {
      "cell_type": "code",
      "execution_count": 19,
      "metadata": {
        "colab": {
          "base_uri": "https://localhost:8080/"
        },
        "id": "X9SBaQcWsb0D",
        "outputId": "0e7f3ec3-2b90-47da-da70-188093daf5cd"
      },
      "outputs": [
        {
          "output_type": "stream",
          "name": "stdout",
          "text": [
            "\n",
            "2.- Suma de dos números\n",
            "\n",
            "Ingrese un numero: 5\n",
            "Ingrese un segundo numero: 7\n",
            "La suma es:  12\n"
          ]
        }
      ],
      "source": [
        "print(\"\\n2.- Suma de dos números\\n\")  #Imprimo mensaje con función print() con un salto de línea '\\n'\n",
        "a = int(input(\"Ingrese un numero: \")) #Capturo en la variable \"a\" un valor ingresado por teclado por usuario con la función input()\n",
        "b = int(input(\"Ingrese un segundo numero: \")) #Capturo en la variable \"b\" un valor ingresado por teclado por usuario con la función input()\n",
        "print(\"La suma es: \",a+b)             #Imprimo con la función print() un mensaje con el valor de la suma de los valores ingresados a y b"
      ]
    },
    {
      "cell_type": "code",
      "source": [
        "print(\"\\n3.- Par o impar\\n\")                #Imprimo mensaje con función print() con un salto de línea '\\n'\n",
        "numero = int(input(\"ingrese un número: \"))  #Capturo en la variable \"numero\" un valor ingresado por teclado por usuario con la función input()\n",
        "if numero%2 == 0:                           #Calculo el módulo del número ingresado y comparo si su valor es cero. En dicho caso será par\n",
        "  print(\"El numero es par\")                 #Imprimo mensaje \"El numero es par\"con la función print()\n",
        "else:                                       #Si la comparación da falso, imprimo un mensaje de número impar\n",
        "    print(\"El numero es impar\")             #Imprimo mensaje \"El numero es impar\"con la función print()"
      ],
      "metadata": {
        "colab": {
          "base_uri": "https://localhost:8080/"
        },
        "id": "PZtwSUqXtRfb",
        "outputId": "4f7ba196-31d1-4430-8215-835ff5bcc404"
      },
      "execution_count": 22,
      "outputs": [
        {
          "output_type": "stream",
          "name": "stdout",
          "text": [
            "\n",
            "3.- Par o impar\n",
            "\n",
            "ingrese un número: 5\n",
            "El numero es impar\n"
          ]
        }
      ]
    },
    {
      "cell_type": "code",
      "source": [
        "print(\"\\n4.- Calculadora básica\\n\") #Imprimo mensaje con función print()\n",
        "def suma(a,b):                      #Defino la función suma con argumentos de entrada a y b\n",
        "  return a+b                        #Retorna la función suma el valor de la suma de los argumentos a y b\n",
        "def resta(a,b):                     #Defino la función resta con argumentos de entrada a y b\n",
        "  return a-b                        #Retorna la función resta el valor de la resta de los argumentos a y b\n",
        "def multiplicar(a,b):               #Defino la función multiplicar con argumentos de entrada a y b\n",
        "  return a*b                        #Retorna la función multiplicar el valor de la multiplicación de los argumentos a y b\n",
        "def division(a,b):                  #Defino la función división con argumentos de entrada a y b\n",
        "  return a/b                        #Retorna la función división el valor de la división de los argumentos a entre b\n",
        "\n",
        "def menu(op):                       #Definición de la función menú con argumento \"op\", que determina la operación matemática a realizar\n",
        "  print(\"\\n Ingrese dos valores:\")  #Imprimo mensaje con la función print()\n",
        "  a = int(input(\"valor 1: \"))       #Capturo en la variable local \"a\", el entero del valor string ingresado por teclado por el usuario mediante la función input()\n",
        "  b = int(input(\"valor 2: \"))       #Capturo en la variable local \"b\", el entero del valor string ingresado por teclado por el usuario mediante la función input()\n",
        "\n",
        "  valor = 0                         #Variable auxiliar para capturar el resultado de la operación seleccionada\n",
        "  if op == 1:                       #Comparación sin el argumento \"op\" es 1. En cuyo caso ejecutará la función suma(a,b)\n",
        "    valor = suma(a,b)               #Capturo en la variable \"valor\" el resultado que retorna la función suma(a,b)\n",
        "  elif op == 2:                     #Comparación sin el argumento \"op\" es 2. En cuyo caso ejecutará la función resta(a,b)\n",
        "    valor = resta(a,b)              #Capturo en la variable \"valor\" el resultado que retorna la función resta(a,b)\n",
        "  elif op == 3:                     #Comparación sin el argumento \"op\" es 3. En cuyo caso ejecutará la función multiplicar(a,b)\n",
        "    valor = multiplicar(a,b)        #Capturo en la variable \"valor\" el resultado que retorna la función multiplicar(a,b)\n",
        "  elif op == 4:                     #Comparación sin el argumento \"op\" es 4. En cuyo caso ejecutará la función division(a,b)\n",
        "      valor = division(a,b)         #Capturo en la variable \"valor\" el resultado que retorna la función division(a,b)\n",
        "  else:                             #Opción si el valor de \"op\" no es ni 1,2,3 o 4.\n",
        "    print(\"\\n Error en el ingreso de la opciòn\") #Imprimo mensaje de error con la función print()\n",
        "  return valor                      #Retorno del valor de la función menu(op)\n",
        "\n",
        "#Imprimo el menú\n",
        "print(\"Elija el numero de la operaciòn que desea realizar: \\n 1.- Suma \\n 2.- Resta\\n 3.- Multiplicacion\\n 4.- Division\")\n",
        "operacion = int(input(\"\\n Opcion: \")) #Capturo en la variable \"operacion\" el entero del valor ingresado por teclado por el usuario mediante la función input()\n",
        "resultado = menu(operacion)           #Capturo el la variable \"resultado\" el valor retornado por la función menu(op)\n",
        "print(\"el resultado es: \", resultado) #Imprimo mensaje del resultado de la operación mediante la función print()"
      ],
      "metadata": {
        "colab": {
          "base_uri": "https://localhost:8080/"
        },
        "id": "Lygao4-ftwdu",
        "outputId": "0d333b50-b3f2-4986-9202-e178069bf9f1"
      },
      "execution_count": 24,
      "outputs": [
        {
          "output_type": "stream",
          "name": "stdout",
          "text": [
            "\n",
            "4.- Calculadora básica\n",
            "\n",
            "Elija el numero de la operaciòn que desea realizar: \n",
            " 1.- Suma \n",
            " 2.- Resta\n",
            " 3.- Multiplicacion\n",
            " 4.- Division\n",
            "\n",
            " Opcion: 3\n",
            "\n",
            " Ingrese dos valores:\n",
            "valor 1: 5\n",
            "valor 2: 8\n",
            "el resultado es:  40\n"
          ]
        }
      ]
    },
    {
      "cell_type": "code",
      "source": [
        "print(\"\\n5.- Número Mayor\\n\")             #Imprimo mensaje con la función print()\n",
        "cadena = input(\"\\n Ingrese 3 numeros separados por comas: \") #Capturo en la variable \"cadena\" la cadena ingresada por el usuario con la función input()\n",
        "lista = cadena.split(',')                 #Conviero la cadena en una lista considerando la coma como separación de cada elemento de la lista;\n",
        "                                          #y lo almacena en la variable lista\n",
        "num_mayor = int(lista[0])                 #Inicializo la variable \"num_mayor\" con el primer valor de la lista\n",
        "for i in range(len(lista)):               #Defino el recorrido de los índices de la lista\n",
        "  if num_mayor <= int(lista[i]):          #Comparo si el valor de num_mayor es menor al valor de la lista en la iteración que se ejecuta\n",
        "    num_mayor = int(lista[i])             #Si \"num_mayor\" es menor del valor de la iteración entonces, actualiza su valor por el de la lista en la iteración que se ejecuta\n",
        "\n",
        "print(\"El numero mayor es: \",num_mayor)   #Imprimo el resultado con la función print()"
      ],
      "metadata": {
        "colab": {
          "base_uri": "https://localhost:8080/"
        },
        "id": "7QqsFK9Cwa2Y",
        "outputId": "ab321c0d-4f13-4bb1-b6d7-dfa14f27ced2"
      },
      "execution_count": 45,
      "outputs": [
        {
          "output_type": "stream",
          "name": "stdout",
          "text": [
            "\n",
            "5.- Número Mayor\n",
            "\n",
            "\n",
            " Ingrese 3 numeros separados por comas: 9,8,56\n",
            "El numero mayor es:  56\n"
          ]
        }
      ]
    },
    {
      "cell_type": "code",
      "source": [
        "print(\"\\n6.- Cálculo del área de un círculo\\n\") #Imprimo el mensaje de inicio con la función print()\n",
        "\n",
        "radio = int(input(\"Ingrese el valor del radio del círculo: \")) #Captura en  la variable \"radio\" el entero del valor ingresado por teclado por el usuario con la función input()\n",
        "\n",
        "area = 3,1415*radio**2                           #Calculo el área del circulo y almaceno este valor en la variable \"area\"\n",
        "\n",
        "print(f\"El área del circulo es: {area} m^2\")     # Imprimo el resultado con la función print()"
      ],
      "metadata": {
        "colab": {
          "base_uri": "https://localhost:8080/"
        },
        "id": "ZYKjh1RB8Fri",
        "outputId": "bc9c6f30-c96a-45f8-eea2-cdd9ecbc43d0"
      },
      "execution_count": 26,
      "outputs": [
        {
          "output_type": "stream",
          "name": "stdout",
          "text": [
            "\n",
            "6.- Cálculo del área de un círculo\n",
            "\n",
            "Cálculo del área de un circulo\n",
            "\n",
            "Ingrese el valor del radio del círculo: 56\n",
            "El área del circulo es: (3, 4437440) m^2\n"
          ]
        }
      ]
    },
    {
      "cell_type": "code",
      "source": [
        "print(\"\\n7.- Conversión de grados Celsius a Fahrenheit\\n\") #Imprimo mensaje de inicio con la función print()\n",
        "\n",
        "temp = int(input(\"\\nIngrese el valor de la temperatura en grados ºC: \")) #Capturo en la variable \"temp\" el valor entero de la cadena ingresada por el usuario por teclado con la función input()\n",
        "F = 1.8*temp + 32                                           #Cálculo de grados Farenhei\n",
        "print(f\"La temperatura en grados Fahrenheit es: {F} ºF\")    #Impresión del resultado"
      ],
      "metadata": {
        "colab": {
          "base_uri": "https://localhost:8080/"
        },
        "id": "Eh5hLtqV8xt6",
        "outputId": "4673f2f2-fc47-47a8-a9de-b7e1c653867d"
      },
      "execution_count": 47,
      "outputs": [
        {
          "output_type": "stream",
          "name": "stdout",
          "text": [
            "\n",
            "7.- Conversión de grados Celsius a Fahrenheit\n",
            "\n",
            "\n",
            "Ingrese el valor de la temperatura en grados ºC: 30\n",
            "La temperatura en grados Fahrenheit es: 86.0 ºF\n"
          ]
        }
      ]
    },
    {
      "cell_type": "code",
      "source": [
        "print(\"\\n8.- Cuenta hacia atrás\\n\") #Imprimo mensaje inicial con la función print()\n",
        "\n",
        "for i in range(10,0,-1):            #Defino el rango de la variable auxiliar \"i\" en forma decreciente\n",
        "  print(i)                          #Impresión del valor de \"i\" en cada iteración\n"
      ],
      "metadata": {
        "colab": {
          "base_uri": "https://localhost:8080/"
        },
        "id": "AFaMuTWQ9iby",
        "outputId": "916765cb-72ff-4dd8-b265-3bb66df58a2b"
      },
      "execution_count": 29,
      "outputs": [
        {
          "output_type": "stream",
          "name": "stdout",
          "text": [
            "\n",
            "8.- Cuenta hacia atrás\n",
            "\n",
            "10\n",
            "9\n",
            "8\n",
            "7\n",
            "6\n",
            "5\n",
            "4\n",
            "3\n",
            "2\n",
            "1\n"
          ]
        }
      ]
    },
    {
      "cell_type": "code",
      "source": [
        "print(\"\\n9.- Tabla de multiplicar\\n\")   #Impresión del mensaje de inicio con la función print()\n",
        "def tabla(num):                         #Definición de la función tabla(num) con argumento de entrada\n",
        "  for i in range(1,13,1):               #Definición del rango de iteración de la variable auxiliar \"i\" (multiplicador), desde 1 al 12 en pasos de 1.\n",
        "    print(f\"{num} x {i} = {num*i}\")     #Impresión de la multiplicación de la iteración correspondiente, con función print()\n",
        "\n",
        "op = int(input(\"Ingrese el valor de la tabla deseada: \")) # Captura en la variable \"op\" del valor entero de la cadena ingresado por el usuario por teclado con la función input()\n",
        "tabla(op)                               #Ejecusión de la función tabla(op) con argumento la tabla deseada"
      ],
      "metadata": {
        "colab": {
          "base_uri": "https://localhost:8080/"
        },
        "id": "6juiWCwl9xpA",
        "outputId": "6dff8a4d-f963-404c-8bd5-6401c6459783"
      },
      "execution_count": 48,
      "outputs": [
        {
          "output_type": "stream",
          "name": "stdout",
          "text": [
            "\n",
            "9.- Tabla de multiplicar\n",
            "\n",
            "Ingrese el valor de la tabla deseada: 8\n",
            "8 x 1 = 8\n",
            "8 x 2 = 16\n",
            "8 x 3 = 24\n",
            "8 x 4 = 32\n",
            "8 x 5 = 40\n",
            "8 x 6 = 48\n",
            "8 x 7 = 56\n",
            "8 x 8 = 64\n",
            "8 x 9 = 72\n",
            "8 x 10 = 80\n",
            "8 x 11 = 88\n",
            "8 x 12 = 96\n"
          ]
        }
      ]
    },
    {
      "cell_type": "code",
      "source": [
        "\n",
        "print(\"\\n10.-Números Primos\\n\")     #Impresión del mensaje de inicio con la función print()\n",
        "\n",
        "num = int(input(\"Ingrese el número a verificar: \")) #Captura en la variable \"num\" del valor entero de la cadena numerica ingresada por teclado por el usuario con la función inpput()\n",
        "valor = True                        #Variable auxiliar usado como bandera para guardar el estado indicativo de numero primo o no. Inicio con valor True (numero primo)\n",
        "for i in range(2,num,1):            #Definición del rango de comprobación de multiplos de la variable num exceptuando el 0, 1 y el mismo valor de num.\n",
        "  if num%i == 0:                    #Verificación si el modulo \"i\" de la variable \"num\" es igual a cero en caso de ser multiplo\n",
        "    valor =False                    #Si es multiplo, la bandera auxiliar toma el valor de falso como indicativo que se encontró un multiplo\n",
        "    break\n",
        "\n",
        "if valor == True:                   #Si \"valor\" es True, el numero es primo\n",
        "  print(\"El numero es primo\")       #Imprimo mensaje de que es primo con la función print()\n",
        "else:                               #En caso de que \"valor\" es False, el numero es impar\n",
        "  print(\"el número no es primo\")    #Imprimo mensaje de que no es primo con la función print()"
      ],
      "metadata": {
        "colab": {
          "base_uri": "https://localhost:8080/"
        },
        "id": "xfDlpEL8-l-r",
        "outputId": "564a9e58-eee3-41af-f2df-a0ff80289563"
      },
      "execution_count": 33,
      "outputs": [
        {
          "output_type": "stream",
          "name": "stdout",
          "text": [
            "\n",
            "10.-Números Primos\n",
            "\n",
            "Ingrese el número a verificar: 7\n",
            "El numero es primo\n"
          ]
        }
      ]
    },
    {
      "cell_type": "code",
      "source": [
        "print(\"\\n11.- Sumar números hasta un límite\\n\") #Impresión del mensaje de inicio con la función print()\n",
        "def suma_ltda(limite_superior):              #Definición de la función con argumento y valor de retorno suma_ltda(limite_superior)\n",
        "  suma = 0                                   #Inicializo variable local en cero\n",
        "  for i in range(1,limite_superior):         #Definición del rango de iteración para la variable \"i\" desde 1 hasta el valor de \"limite_superior\"\n",
        "    suma = suma + i                          #Suma consecutiva por iteración\n",
        "  return suma                                #Retorno del valor suma\n",
        "\n",
        "limite = int(input(\"\\nIngrese el limite: \")) #Captura en la variable \"limite\", del valor limite ingresado por el usuario por teclado mediante la función input()\n",
        "a = suma_ltda(limite)                        #Captura del valor de retorno de la función suma_ltda que realiza la suma consecutiva desde 1 hasta el valor de \"limite\"\n",
        "print(\"La suma acumulada es: \",a)            #Impresión del resultado mediante la función print()"
      ],
      "metadata": {
        "colab": {
          "base_uri": "https://localhost:8080/"
        },
        "id": "fYAh0vBLBqhX",
        "outputId": "7bd03b5d-d526-4cd1-b1c3-a8fb308d61c8"
      },
      "execution_count": 49,
      "outputs": [
        {
          "output_type": "stream",
          "name": "stdout",
          "text": [
            "\n",
            "11.- Sumar números hasta un límite\n",
            "\n",
            "Sumar números hasta un límite\n",
            "\n",
            "\n",
            "Ingrese el limite: 8\n",
            "La suma acumulada es:  28\n"
          ]
        }
      ]
    },
    {
      "cell_type": "code",
      "source": [
        "print(\"\\n12.- Invertir una cadena\\n\")     #Impresión del mensaje de inicio con la función print()\n",
        "cadena = input(\"Ingrese una palabra: \")   #Captura del valor ingresa por teclado por el usuario mediante la función input()\n",
        "cadena_rev = \"\"                           #Definicion de la variable \"cadena_rev\", para guardar la cadena invertida\n",
        "for i in range(len(cadena)-1,-1,-1):      #Definición del rango de la iteración en descenso\n",
        "  #print(cadena[i])\n",
        "  cadena_rev = cadena_rev+cadena[i]       #Almaceno los valores de la variable \"cadena\" en la variable \"cadena_rev\" en forma descendente\n",
        "\n",
        "print(\"La cadena invertida es: \",cadena_rev) #Impresion de la cadena invertida mediante la función print()"
      ],
      "metadata": {
        "colab": {
          "base_uri": "https://localhost:8080/"
        },
        "id": "ygINN9Y7Ql0D",
        "outputId": "944b7bfd-ebac-4a78-8c11-59949c29b309"
      },
      "execution_count": 39,
      "outputs": [
        {
          "output_type": "stream",
          "name": "stdout",
          "text": [
            "\n",
            "12.- Invertir una cadena\n",
            "\n",
            "Ingrese una palabra: Hola hijos\n",
            "La cadena invertida es:  sojih aloH\n"
          ]
        }
      ]
    },
    {
      "cell_type": "code",
      "source": [
        "print(\"\\n13.- Contar vocales\\n\")        #Impresión del mensaje de inicio con la función print()\n",
        "\n",
        "frase = input(\"Ingrese una frase: \")    #Captura en la variable \"frase\" de la cadena ingresada por el usuario mediante la función input()\n",
        "vocales = ['a','e','i','o','u']         #Definición de la lista de vocales\n",
        "count = 0                               #Contador de vocales en la frase\n",
        "for i in range(0,len(frase)):           #Definición del valor de recorrido del subindice \"i\"\n",
        "  if frase[i] in vocales:               #Verificación si el valor de la posición \"i\" de la frase existe en la lista \"vocales\"\n",
        "    count += 1                          #Contador se incrementa en caso de que el valor de la posición \"i\" de la frase es una vocal\n",
        "\n",
        "print(f\"\\n Su frase tiene {count} vocales\") #Impresión del mensaje del resultado \"numero de vocales\", mediante el uso de la función print()"
      ],
      "metadata": {
        "colab": {
          "base_uri": "https://localhost:8080/"
        },
        "id": "7Bjy3XdvSaq9",
        "outputId": "867bf664-1947-4738-bc7d-29137b576acd"
      },
      "execution_count": 40,
      "outputs": [
        {
          "output_type": "stream",
          "name": "stdout",
          "text": [
            "\n",
            "13.- Contar vocales\n",
            "\n",
            "Ingrese una frase: La mañana es triste\n",
            "\n",
            " Su frase tiene 7 vocales\n"
          ]
        }
      ]
    },
    {
      "cell_type": "code",
      "source": [
        "print(\"\\n14.- Polindromo\\n\")            #Impresión del mensaje de inicio con la función print()\n",
        "cadena = input(\"Ingrese una palabra: \") # Captura del valor ingresado por teclado por el usuario con la función input()\n",
        "cadena_rev = \"\"                         #Defino variable auxiliar para guardar la cadena de manera descendente letra por letra\n",
        "for i in range(len(cadena)-1,-1,-1):    #Definición del rango del recorrido de forma descendente\n",
        "  cadena_rev = cadena_rev+cadena[i]     #Almacenamiento del valor de la variable \"cadena\" correspodiente de la iteración, empezando desde el final de \"cadena\"\n",
        "\n",
        "if cadena == cadena_rev:                # Verificación si la \"cadena\" ingresada por el usuario es igual a la cadena invertida \"cadena_rev\"\n",
        "  print(\"\\n La palabra es un polindromo\") #Impresión del mesaje de que es polindromo con la función print()\n",
        "else:                                   # Caso contrario: en caso de que las cadenas no sean iguales\n",
        "  print(\"\\n La palabra No es un polindromo\")#Impresión del mesaje de que NO es polindromo con la función print()"
      ],
      "metadata": {
        "colab": {
          "base_uri": "https://localhost:8080/"
        },
        "id": "Fj8BWbFZU2tK",
        "outputId": "9ee0f339-6b15-42e2-aeec-af6a6d7afdd1"
      },
      "execution_count": 41,
      "outputs": [
        {
          "output_type": "stream",
          "name": "stdout",
          "text": [
            "\n",
            "14.- Polindromo\n",
            "\n",
            "Ingrese una palabra: alas\n",
            "\n",
            " La palabra No es un polindromo\n"
          ]
        }
      ]
    },
    {
      "cell_type": "code",
      "source": [
        "print(\"\\n15.- Factorial de un número\\n\") #Impresión del mensaje de inicio con la función print()\n",
        "factor = int(input(\"Introduzca un número para calcular su factorial: \")) #Captura en \"factor\" del valor ingresado por teclado por el usuario con la función input()\n",
        "factorial = 1                       #Inicialización de la variable factorial\n",
        "#Calculo del factorial\n",
        "for i in range(1,factor+1,1):       #Definición del rango para los factores del factorial de la variable \"factor\" con valor ingresado por teclado\n",
        "  factorial = factorial*i           #Cálculo del producto con el factor i por iteración. Se repite hasta el valor de la variable \"factor\"\n",
        "\n",
        "print(f\"El factorial es: {factorial}\")# Impresión del factorial del numero \"factor\" mediante la función print()"
      ],
      "metadata": {
        "colab": {
          "base_uri": "https://localhost:8080/"
        },
        "id": "dArtN1oCVlGi",
        "outputId": "66680690-5b93-4c88-e28b-45708bf34807"
      },
      "execution_count": 42,
      "outputs": [
        {
          "output_type": "stream",
          "name": "stdout",
          "text": [
            "\n",
            "15.- Factorial de un número\n",
            "\n",
            "Introduzca un número para calcular su factorial: 5\n",
            "El factorial es: 120\n"
          ]
        }
      ]
    },
    {
      "cell_type": "code",
      "source": [
        "import random                                # Exporto libería \"random\"\n",
        "print(\"\\n16.- Generar 5 numeros aleatorios\") #Impresión del mensaje de inicio con la función print()\n",
        "aleatorio = []                               #Variable lista auxiliar para almacenar los valores aleatoreos\n",
        "for i in range(5):                           #Definición de las iteraciones para los calculos, en este caso 5 iteraciones\n",
        "  num = random.randint(1,100)                #Cálculo del numero aleatorio con la función random.randint(1,100) entre 1 y 100\n",
        "  aleatorio.append(num)                      #Agreo el valor calculado en la lista auxiliar\n",
        "\n",
        "print(\"\\n Los valores aleatorio son: \", aleatorio) #Impresión de los valores aleatorios con la función print()"
      ],
      "metadata": {
        "colab": {
          "base_uri": "https://localhost:8080/"
        },
        "id": "QAleaF07nL_8",
        "outputId": "cf787f67-d08a-4bfa-8bf4-5d9b21570bc3"
      },
      "execution_count": 43,
      "outputs": [
        {
          "output_type": "stream",
          "name": "stdout",
          "text": [
            "\n",
            "16.- Generar 5 numeros aleatorios\n",
            "\n",
            " Los valores aleatorio son:  [42, 41, 57, 84, 35]\n"
          ]
        }
      ]
    },
    {
      "cell_type": "code",
      "source": [
        "print(\"\\n17. Calculadora de índice de masa corporal [IMC]\\n\") #Impresión del mensaje de inicio con la función print()\n",
        "\n",
        "peso = float(input(\"Ingrese su peso [Kg]: \"))     #Capturo en la variable \"peso\" el valor entero del cadena numerica ingresa por el usuario por teclado con la función input()\n",
        "altura = float(input(\"Ingrese su altura [m]: \"))  #Capturo en la variable \"altura\" el valor entero del cadena numerica ingresa por el usuario por teclado con la función input()\n",
        "\n",
        "IMC = peso / altura**2                            #Calculo del índice de masa corporal\n",
        "\n",
        "print(\"\\n Su IMC es: \",IMC)                       #Impresión del resultado con la función print()\n",
        "\n"
      ],
      "metadata": {
        "id": "SmFyTeQSVt8Y",
        "colab": {
          "base_uri": "https://localhost:8080/"
        },
        "outputId": "180274d4-3f2c-47bf-b9b6-aed2666ae342"
      },
      "execution_count": 50,
      "outputs": [
        {
          "output_type": "stream",
          "name": "stdout",
          "text": [
            "\n",
            "17. Calculadora de índice de masa corporal [IMC]\n",
            "\n",
            "Ingrese su peso [Kg]: 75\n",
            "Ingrese su altura [m]: 1.62\n",
            "\n",
            " Su IMC es:  28.577960676726104\n"
          ]
        }
      ]
    }
  ]
}
{
  "nbformat": 4,
  "nbformat_minor": 0,
  "metadata": {
    "colab": {
      "provenance": [],
      "authorship_tag": "ABX9TyOQkEtuHEIifv1lK8JWchxF",
      "include_colab_link": true
    },
    "kernelspec": {
      "name": "python3",
      "display_name": "Python 3"
    },
    "language_info": {
      "name": "python"
    }
  },
  "cells": [
    {
      "cell_type": "markdown",
      "metadata": {
        "id": "view-in-github",
        "colab_type": "text"
      },
      "source": [
        "<a href=\"https://colab.research.google.com/github/gsangucho/hola-mundo/blob/main/A_T2_GERMAN_SANGUCHO.ipynb\" target=\"_parent\"><img src=\"https://colab.research.google.com/assets/colab-badge.svg\" alt=\"Open In Colab\"/></a>"
      ]
    },
    {
      "cell_type": "markdown",
      "source": [
        "#**TRABAJO 2 TIC**\n",
        "#**Tecnolgías de las Informaciòn y comunicación**\n",
        "**Unidad 3: HERRAMIENTAS COLABORATIVAS**"
      ],
      "metadata": {
        "id": "MIM8A1xc2WsO"
      }
    },
    {
      "cell_type": "code",
      "source": [
        "print(\"\\n1.- Hola mundo\")"
      ],
      "metadata": {
        "colab": {
          "base_uri": "https://localhost:8080/"
        },
        "id": "qyPy4hicsjHb",
        "outputId": "2c5bf613-9e4a-4952-b3b1-7656cd385c75"
      },
      "execution_count": 18,
      "outputs": [
        {
          "output_type": "stream",
          "name": "stdout",
          "text": [
            "\n",
            "1.- Hola mundo\n"
          ]
        }
      ]
    },
    {
      "cell_type": "code",
      "execution_count": 19,
      "metadata": {
        "colab": {
          "base_uri": "https://localhost:8080/"
        },
        "id": "X9SBaQcWsb0D",
        "outputId": "0e7f3ec3-2b90-47da-da70-188093daf5cd"
      },
      "outputs": [
        {
          "output_type": "stream",
          "name": "stdout",
          "text": [
            "\n",
            "2.- Suma de dos números\n",
            "\n",
            "Ingrese un numero: 5\n",
            "Ingrese un segundo numero: 7\n",
            "La suma es:  12\n"
          ]
        }
      ],
      "source": [
        "print(\"\\n2.- Suma de dos números\\n\")\n",
        "a = int(input(\"Ingrese un numero: \"))\n",
        "b = int(input(\"Ingrese un segundo numero: \"))\n",
        "print(\"La suma es: \",a+b)"
      ]
    },
    {
      "cell_type": "code",
      "source": [
        "print(\"\\n3.- Par o impar\\n\")\n",
        "numero = int(input(\"ingrese un número: \"))\n",
        "if numero%2 == 0:\n",
        "  print(\"El numero es par\")\n",
        "else:\n",
        "    print(\"El numero es impar\")"
      ],
      "metadata": {
        "colab": {
          "base_uri": "https://localhost:8080/"
        },
        "id": "PZtwSUqXtRfb",
        "outputId": "4f7ba196-31d1-4430-8215-835ff5bcc404"
      },
      "execution_count": 22,
      "outputs": [
        {
          "output_type": "stream",
          "name": "stdout",
          "text": [
            "\n",
            "3.- Par o impar\n",
            "\n",
            "ingrese un número: 5\n",
            "El numero es impar\n"
          ]
        }
      ]
    },
    {
      "cell_type": "code",
      "source": [
        "print(\"\\n4.- Calculadora básica\\n\")\n",
        "def suma(a,b):\n",
        "  return a+b\n",
        "def resta(a,b):\n",
        "  return a-b\n",
        "def multiplicar(a,b):\n",
        "  return a*b\n",
        "def division(a,b):\n",
        "  return a/b\n",
        "\n",
        "def menu(op):\n",
        "  print(\"\\n Ingrese dos valores:\")\n",
        "  a = int(input(\"valor 1: \"))\n",
        "  b = int(input(\"valor 2: \"))\n",
        "  valor = 0\n",
        "  if op == 1:\n",
        "    valor = suma(a,b)\n",
        "  elif op == 2:\n",
        "    valor = resta(a,b)\n",
        "  elif op == 3:\n",
        "    valor = multiplicar(a,b)\n",
        "  elif op == 4:\n",
        "      valor = division(a,b)\n",
        "  else:\n",
        "    print(\"\\n Error en el ingreso de la opciòn\")\n",
        "  return valor\n",
        "\n",
        "print(\"Elija el numero de la operaciòn que desea realizar: \\n 1.- Suma \\n 2.- Resta\\n 3.- Multiplicacion\\n 4.- Division\")\n",
        "operacion = int(input(\"\\n Opcion: \"))\n",
        "resultado = menu(operacion)\n",
        "print(\"el resultado es: \", resultado)"
      ],
      "metadata": {
        "colab": {
          "base_uri": "https://localhost:8080/"
        },
        "id": "Lygao4-ftwdu",
        "outputId": "0d333b50-b3f2-4986-9202-e178069bf9f1"
      },
      "execution_count": 24,
      "outputs": [
        {
          "output_type": "stream",
          "name": "stdout",
          "text": [
            "\n",
            "4.- Calculadora básica\n",
            "\n",
            "Elija el numero de la operaciòn que desea realizar: \n",
            " 1.- Suma \n",
            " 2.- Resta\n",
            " 3.- Multiplicacion\n",
            " 4.- Division\n",
            "\n",
            " Opcion: 3\n",
            "\n",
            " Ingrese dos valores:\n",
            "valor 1: 5\n",
            "valor 2: 8\n",
            "el resultado es:  40\n"
          ]
        }
      ]
    },
    {
      "cell_type": "code",
      "source": [
        "print(\"\\n5.- Número Mayor\\n\")\n",
        "cadena = input(\"\\n Ingrese 3 numeros separados por comas: \")\n",
        "lista = cadena.split(',')\n",
        "\n",
        "print(cadena)\n",
        "print(lista)\n",
        "\n",
        "num_mayor = int(lista[0])\n",
        "for i in range(len(lista)):\n",
        "  if num_mayor <= int(lista[i]):\n",
        "    num_mayor = int(lista[i])\n",
        "  else:\n",
        "    pass\n",
        "\n",
        "print(\"El numero mayor es: \",num_mayor)"
      ],
      "metadata": {
        "colab": {
          "base_uri": "https://localhost:8080/"
        },
        "id": "7QqsFK9Cwa2Y",
        "outputId": "e5c55dc2-286d-4f72-f3e0-20b4524cd5eb"
      },
      "execution_count": 25,
      "outputs": [
        {
          "output_type": "stream",
          "name": "stdout",
          "text": [
            "\n",
            "5.- Número Mayor\n",
            "\n",
            "\n",
            " Ingrese 3 numeros separados por comas: 5,6,9\n",
            "5,6,9\n",
            "['5', '6', '9']\n",
            "El numero mayor es:  9\n"
          ]
        }
      ]
    },
    {
      "cell_type": "code",
      "source": [
        "print(\"\\n6.- Cálculo del área de un círculo\\n\")\n",
        "print(\"Cálculo del área de un circulo\\n\")\n",
        "radio = int(input(\"Ingrese el valor del radio del círculo: \"))\n",
        "\n",
        "area = 3,1415*radio**2\n",
        "\n",
        "print(f\"El área del circulo es: {area} m^2\")"
      ],
      "metadata": {
        "colab": {
          "base_uri": "https://localhost:8080/"
        },
        "id": "ZYKjh1RB8Fri",
        "outputId": "bc9c6f30-c96a-45f8-eea2-cdd9ecbc43d0"
      },
      "execution_count": 26,
      "outputs": [
        {
          "output_type": "stream",
          "name": "stdout",
          "text": [
            "\n",
            "6.- Cálculo del área de un círculo\n",
            "\n",
            "Cálculo del área de un circulo\n",
            "\n",
            "Ingrese el valor del radio del círculo: 56\n",
            "El área del circulo es: (3, 4437440) m^2\n"
          ]
        }
      ]
    },
    {
      "cell_type": "code",
      "source": [
        "print(\"\\n7.- Conversión de grados Celsius a Fahrenheit\\n\")\n",
        "print(\"Conversion de Celsius a Fahrenheit\")\n",
        "\n",
        "temp = int(input(\"\\n Ingrese el valor de la temperatura en grados ºC: \"))\n",
        "F = 1.8*temp + 32\n",
        "print(f\"La temperatura en grados Fahrenheit es: {F} ºF\")"
      ],
      "metadata": {
        "colab": {
          "base_uri": "https://localhost:8080/"
        },
        "id": "Eh5hLtqV8xt6",
        "outputId": "fea5a674-1aa3-4f7a-de15-766cdef055c8"
      },
      "execution_count": 28,
      "outputs": [
        {
          "output_type": "stream",
          "name": "stdout",
          "text": [
            "\n",
            "7.- Conversión de grados Celsius a Fahrenheit\n",
            "\n",
            "Conversion de Celsius a Fahrenheit\n",
            "\n",
            " Ingrese el valor de la temperatura en grados ºC: 35\n",
            "La temperatura en grados Fahrenheit es: 95.0 ºF\n"
          ]
        }
      ]
    },
    {
      "cell_type": "code",
      "source": [
        "print(\"\\n8.- Cuenta hacia atrás\\n\")\n",
        "\n",
        "for i in range(10,0,-1):\n",
        "  print(i)\n"
      ],
      "metadata": {
        "colab": {
          "base_uri": "https://localhost:8080/"
        },
        "id": "AFaMuTWQ9iby",
        "outputId": "916765cb-72ff-4dd8-b265-3bb66df58a2b"
      },
      "execution_count": 29,
      "outputs": [
        {
          "output_type": "stream",
          "name": "stdout",
          "text": [
            "\n",
            "8.- Cuenta hacia atrás\n",
            "\n",
            "10\n",
            "9\n",
            "8\n",
            "7\n",
            "6\n",
            "5\n",
            "4\n",
            "3\n",
            "2\n",
            "1\n"
          ]
        }
      ]
    },
    {
      "cell_type": "code",
      "source": [
        "print(\"\\n9.- Tabla de multiplicar\\n\")\n",
        "def tabla(num):\n",
        "  for i in range(1,13,1):\n",
        "    print(f\"{num} x {i} = {num*i}\")\n",
        "\n",
        "print(\"Tabla de multiplicar\\n\")\n",
        "\n",
        "op = int(input(\"Ingrese el valor de la tabla deseada: \"))\n",
        "tabla(op)"
      ],
      "metadata": {
        "colab": {
          "base_uri": "https://localhost:8080/"
        },
        "id": "6juiWCwl9xpA",
        "outputId": "188b5483-7ff4-4cd1-b2e4-ef0b70bb4f23"
      },
      "execution_count": 30,
      "outputs": [
        {
          "output_type": "stream",
          "name": "stdout",
          "text": [
            "\n",
            "9.- Tabla de multiplicar\n",
            "\n",
            "Tabla de multiplicar\n",
            "\n",
            "Ingrese el valor de la tabla deseada: 8\n",
            "8 x 1 = 8\n",
            "8 x 2 = 16\n",
            "8 x 3 = 24\n",
            "8 x 4 = 32\n",
            "8 x 5 = 40\n",
            "8 x 6 = 48\n",
            "8 x 7 = 56\n",
            "8 x 8 = 64\n",
            "8 x 9 = 72\n",
            "8 x 10 = 80\n",
            "8 x 11 = 88\n",
            "8 x 12 = 96\n"
          ]
        }
      ]
    },
    {
      "cell_type": "code",
      "source": [
        "\n",
        "print(\"\\n10.-Números Primos\\n\")\n",
        "\n",
        "num = int(input(\"Ingrese el número a verificar: \"))\n",
        "valor = True\n",
        "for i in range(2,num,1):\n",
        "  if num%i == 0:\n",
        "    valor =False\n",
        "    break\n",
        "\n",
        "if valor == True:\n",
        "  print(\"El numero es primo\")\n",
        "else:\n",
        "  print(\"el número no es primo\")"
      ],
      "metadata": {
        "colab": {
          "base_uri": "https://localhost:8080/"
        },
        "id": "xfDlpEL8-l-r",
        "outputId": "564a9e58-eee3-41af-f2df-a0ff80289563"
      },
      "execution_count": 33,
      "outputs": [
        {
          "output_type": "stream",
          "name": "stdout",
          "text": [
            "\n",
            "10.-Números Primos\n",
            "\n",
            "Ingrese el número a verificar: 7\n",
            "El numero es primo\n"
          ]
        }
      ]
    },
    {
      "cell_type": "code",
      "source": [
        "print(\"\\n11.- Sumar números hasta un límite\\n\")\n",
        "def suma_ltda(limite_superior):\n",
        "  suma = 0\n",
        "  for i in range(1,limite_superior):\n",
        "    suma = suma + i\n",
        "  return suma\n",
        "\n",
        "print(\"Sumar números hasta un límite\\n\")\n",
        "limite = int(input(\"\\nIngrese el limite: \"))\n",
        "a = suma_ltda(limite)\n",
        "print(\"La suma acumulada es: \",a)"
      ],
      "metadata": {
        "colab": {
          "base_uri": "https://localhost:8080/"
        },
        "id": "fYAh0vBLBqhX",
        "outputId": "5566a661-4e87-4f9e-990f-db3f9fc56b06"
      },
      "execution_count": 35,
      "outputs": [
        {
          "output_type": "stream",
          "name": "stdout",
          "text": [
            "\n",
            "11.- Sumar números hasta un límite\n",
            "\n",
            "Sumar números hasta un límite\n",
            "\n",
            "\n",
            "Ingrese el limite: 8\n",
            "La suma acumulada es:  28\n"
          ]
        }
      ]
    },
    {
      "cell_type": "code",
      "source": [
        "print(\"\\n12.- Invertir una cadena\\n\")\n",
        "cadena = input(\"Ingrese una palabra: \")\n",
        "cadena_rev = \"\"\n",
        "for i in range(len(cadena)-1,-1,-1):\n",
        "  #print(cadena[i])\n",
        "  cadena_rev = cadena_rev+cadena[i]\n",
        "\n",
        "print(\"La cadena invertida es: \",cadena_rev)"
      ],
      "metadata": {
        "colab": {
          "base_uri": "https://localhost:8080/"
        },
        "id": "ygINN9Y7Ql0D",
        "outputId": "944b7bfd-ebac-4a78-8c11-59949c29b309"
      },
      "execution_count": 39,
      "outputs": [
        {
          "output_type": "stream",
          "name": "stdout",
          "text": [
            "\n",
            "12.- Invertir una cadena\n",
            "\n",
            "Ingrese una palabra: Hola hijos\n",
            "La cadena invertida es:  sojih aloH\n"
          ]
        }
      ]
    },
    {
      "cell_type": "code",
      "source": [
        "print(\"\\n13.- Contar vocales\\n\")\n",
        "\n",
        "frase = input(\"Ingrese una frase: \")\n",
        "vocales = ['a','e','i','o','u']\n",
        "count = 0\n",
        "for i in range(0,len(frase)):\n",
        "  if frase[i] in vocales:\n",
        "    count += 1\n",
        "\n",
        "print(f\"\\n Su frase tiene {count} vocales\")"
      ],
      "metadata": {
        "colab": {
          "base_uri": "https://localhost:8080/"
        },
        "id": "7Bjy3XdvSaq9",
        "outputId": "867bf664-1947-4738-bc7d-29137b576acd"
      },
      "execution_count": 40,
      "outputs": [
        {
          "output_type": "stream",
          "name": "stdout",
          "text": [
            "\n",
            "13.- Contar vocales\n",
            "\n",
            "Ingrese una frase: La mañana es triste\n",
            "\n",
            " Su frase tiene 7 vocales\n"
          ]
        }
      ]
    },
    {
      "cell_type": "code",
      "source": [
        "print(\"\\n14.- Polindromo\\n\")\n",
        "cadena = input(\"Ingrese una palabra: \")\n",
        "cadena_rev = \"\"\n",
        "for i in range(len(cadena)-1,-1,-1):\n",
        "  cadena_rev = cadena_rev+cadena[i]\n",
        "\n",
        "if cadena == cadena_rev:\n",
        "  print(\"\\n La palabra es un polindromo\")\n",
        "else:\n",
        "  print(\"\\n La palabra No es un polindromo\")"
      ],
      "metadata": {
        "colab": {
          "base_uri": "https://localhost:8080/"
        },
        "id": "Fj8BWbFZU2tK",
        "outputId": "9ee0f339-6b15-42e2-aeec-af6a6d7afdd1"
      },
      "execution_count": 41,
      "outputs": [
        {
          "output_type": "stream",
          "name": "stdout",
          "text": [
            "\n",
            "14.- Polindromo\n",
            "\n",
            "Ingrese una palabra: alas\n",
            "\n",
            " La palabra No es un polindromo\n"
          ]
        }
      ]
    },
    {
      "cell_type": "code",
      "source": [
        "print(\"\\n15.- Factorial de un número\\n\")\n",
        "factor = int(input(\"Introduzca un número para calcular su factorial: \"))\n",
        "factorial = 1\n",
        "for i in range(1,factor+1,1):\n",
        "  factorial = factorial*i\n",
        "\n",
        "print(f\"El factorial es: {factorial}\")"
      ],
      "metadata": {
        "colab": {
          "base_uri": "https://localhost:8080/"
        },
        "id": "dArtN1oCVlGi",
        "outputId": "66680690-5b93-4c88-e28b-45708bf34807"
      },
      "execution_count": 42,
      "outputs": [
        {
          "output_type": "stream",
          "name": "stdout",
          "text": [
            "\n",
            "15.- Factorial de un número\n",
            "\n",
            "Introduzca un número para calcular su factorial: 5\n",
            "El factorial es: 120\n"
          ]
        }
      ]
    },
    {
      "cell_type": "code",
      "source": [
        "import random\n",
        "print(\"\\n16.- Generar 5 numeros aleatorios\")\n",
        "aleatorio = []\n",
        "for i in range(5):\n",
        "  num = random.randint(1,100)\n",
        "  aleatorio.append(num)\n",
        "\n",
        "print(\"\\n Los valores aleatorio son: \", aleatorio)"
      ],
      "metadata": {
        "colab": {
          "base_uri": "https://localhost:8080/"
        },
        "id": "QAleaF07nL_8",
        "outputId": "cf787f67-d08a-4bfa-8bf4-5d9b21570bc3"
      },
      "execution_count": 43,
      "outputs": [
        {
          "output_type": "stream",
          "name": "stdout",
          "text": [
            "\n",
            "16.- Generar 5 numeros aleatorios\n",
            "\n",
            " Los valores aleatorio son:  [42, 41, 57, 84, 35]\n"
          ]
        }
      ]
    },
    {
      "cell_type": "code",
      "source": [
        "print(\"\\n17. Calculadora de {indice de masa corporal [IMC]\\n\")\n",
        "\n",
        "peso = float(input(\"Ingrese su peso [Kg]: \"))\n",
        "altura = float(input(\"Ingrese su altura [m]: \"))\n",
        "\n",
        "IMC = peso / altura**2\n",
        "\n",
        "print(\"\\n Su IMC es: \",IMC)\n",
        "\n"
      ],
      "metadata": {
        "id": "SmFyTeQSVt8Y",
        "colab": {
          "base_uri": "https://localhost:8080/"
        },
        "outputId": "f30d3873-9a22-46d6-e568-2454062cf7c2"
      },
      "execution_count": 17,
      "outputs": [
        {
          "output_type": "stream",
          "name": "stdout",
          "text": [
            "\n",
            "17. Calculadora de {indice de masa corporal [IMC]\n",
            "\n",
            "Ingrese su peso [Kg]: 75\n",
            "Ingrese su altura [m]: 1.68\n",
            "\n",
            " Su IMC es:  26.573129251700685\n"
          ]
        }
      ]
    }
  ]
}